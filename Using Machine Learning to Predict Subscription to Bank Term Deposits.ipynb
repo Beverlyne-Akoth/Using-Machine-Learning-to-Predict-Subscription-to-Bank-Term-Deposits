{
 "cells": [
  {
   "cell_type": "code",
   "execution_count": 1,
   "metadata": {},
   "outputs": [],
   "source": [
    "import numpy as np\n",
    "import matplotlib.pyplot as plt\n",
    "import pandas as pd\n",
    "import seaborn as sns\n",
    "import numpy as np\n",
    "from sklearn.preprocessing import StandardScaler\n",
    "%matplotlib inline\n",
    "from sklearn.model_selection import train_test_split\n",
    "from sklearn.neighbors import KNeighborsClassifier\n",
    "from sklearn.tree import DecisionTreeClassifier\n",
    "from sklearn.linear_model import LogisticRegression\n",
    "from sklearn.svm import SVC\n",
    "from sklearn.metrics import accuracy_score, confusion_matrix, jaccard_score, log_loss, classification_report\n",
    "import itertools"
   ]
  },
  {
   "cell_type": "code",
   "execution_count": 2,
   "metadata": {},
   "outputs": [
    {
     "name": "stdout",
     "output_type": "stream",
     "text": [
      "(7043, 21)\n"
     ]
    },
    {
     "data": {
      "text/html": [
       "<div>\n",
       "<style scoped>\n",
       "    .dataframe tbody tr th:only-of-type {\n",
       "        vertical-align: middle;\n",
       "    }\n",
       "\n",
       "    .dataframe tbody tr th {\n",
       "        vertical-align: top;\n",
       "    }\n",
       "\n",
       "    .dataframe thead th {\n",
       "        text-align: right;\n",
       "    }\n",
       "</style>\n",
       "<table border=\"1\" class=\"dataframe\">\n",
       "  <thead>\n",
       "    <tr style=\"text-align: right;\">\n",
       "      <th></th>\n",
       "      <th>customerID</th>\n",
       "      <th>gender</th>\n",
       "      <th>SeniorCitizen</th>\n",
       "      <th>Partner</th>\n",
       "      <th>Dependents</th>\n",
       "      <th>tenure</th>\n",
       "      <th>PhoneService</th>\n",
       "      <th>MultipleLines</th>\n",
       "      <th>InternetService</th>\n",
       "      <th>OnlineSecurity</th>\n",
       "      <th>...</th>\n",
       "      <th>DeviceProtection</th>\n",
       "      <th>TechSupport</th>\n",
       "      <th>StreamingTV</th>\n",
       "      <th>StreamingMovies</th>\n",
       "      <th>Contract</th>\n",
       "      <th>PaperlessBilling</th>\n",
       "      <th>PaymentMethod</th>\n",
       "      <th>MonthlyCharges</th>\n",
       "      <th>TotalCharges</th>\n",
       "      <th>Churn</th>\n",
       "    </tr>\n",
       "  </thead>\n",
       "  <tbody>\n",
       "    <tr>\n",
       "      <th>0</th>\n",
       "      <td>7590-VHVEG</td>\n",
       "      <td>Female</td>\n",
       "      <td>0</td>\n",
       "      <td>Yes</td>\n",
       "      <td>No</td>\n",
       "      <td>1</td>\n",
       "      <td>No</td>\n",
       "      <td>No phone service</td>\n",
       "      <td>DSL</td>\n",
       "      <td>No</td>\n",
       "      <td>...</td>\n",
       "      <td>No</td>\n",
       "      <td>No</td>\n",
       "      <td>No</td>\n",
       "      <td>No</td>\n",
       "      <td>Month-to-month</td>\n",
       "      <td>Yes</td>\n",
       "      <td>Electronic check</td>\n",
       "      <td>29.85</td>\n",
       "      <td>29.85</td>\n",
       "      <td>No</td>\n",
       "    </tr>\n",
       "    <tr>\n",
       "      <th>1</th>\n",
       "      <td>5575-GNVDE</td>\n",
       "      <td>Male</td>\n",
       "      <td>0</td>\n",
       "      <td>No</td>\n",
       "      <td>No</td>\n",
       "      <td>34</td>\n",
       "      <td>Yes</td>\n",
       "      <td>No</td>\n",
       "      <td>DSL</td>\n",
       "      <td>Yes</td>\n",
       "      <td>...</td>\n",
       "      <td>Yes</td>\n",
       "      <td>No</td>\n",
       "      <td>No</td>\n",
       "      <td>No</td>\n",
       "      <td>One year</td>\n",
       "      <td>No</td>\n",
       "      <td>Mailed check</td>\n",
       "      <td>56.95</td>\n",
       "      <td>1889.5</td>\n",
       "      <td>No</td>\n",
       "    </tr>\n",
       "    <tr>\n",
       "      <th>2</th>\n",
       "      <td>3668-QPYBK</td>\n",
       "      <td>Male</td>\n",
       "      <td>0</td>\n",
       "      <td>No</td>\n",
       "      <td>No</td>\n",
       "      <td>2</td>\n",
       "      <td>Yes</td>\n",
       "      <td>No</td>\n",
       "      <td>DSL</td>\n",
       "      <td>Yes</td>\n",
       "      <td>...</td>\n",
       "      <td>No</td>\n",
       "      <td>No</td>\n",
       "      <td>No</td>\n",
       "      <td>No</td>\n",
       "      <td>Month-to-month</td>\n",
       "      <td>Yes</td>\n",
       "      <td>Mailed check</td>\n",
       "      <td>53.85</td>\n",
       "      <td>108.15</td>\n",
       "      <td>Yes</td>\n",
       "    </tr>\n",
       "    <tr>\n",
       "      <th>3</th>\n",
       "      <td>7795-CFOCW</td>\n",
       "      <td>Male</td>\n",
       "      <td>0</td>\n",
       "      <td>No</td>\n",
       "      <td>No</td>\n",
       "      <td>45</td>\n",
       "      <td>No</td>\n",
       "      <td>No phone service</td>\n",
       "      <td>DSL</td>\n",
       "      <td>Yes</td>\n",
       "      <td>...</td>\n",
       "      <td>Yes</td>\n",
       "      <td>Yes</td>\n",
       "      <td>No</td>\n",
       "      <td>No</td>\n",
       "      <td>One year</td>\n",
       "      <td>No</td>\n",
       "      <td>Bank transfer (automatic)</td>\n",
       "      <td>42.30</td>\n",
       "      <td>1840.75</td>\n",
       "      <td>No</td>\n",
       "    </tr>\n",
       "    <tr>\n",
       "      <th>4</th>\n",
       "      <td>9237-HQITU</td>\n",
       "      <td>Female</td>\n",
       "      <td>0</td>\n",
       "      <td>No</td>\n",
       "      <td>No</td>\n",
       "      <td>2</td>\n",
       "      <td>Yes</td>\n",
       "      <td>No</td>\n",
       "      <td>Fiber optic</td>\n",
       "      <td>No</td>\n",
       "      <td>...</td>\n",
       "      <td>No</td>\n",
       "      <td>No</td>\n",
       "      <td>No</td>\n",
       "      <td>No</td>\n",
       "      <td>Month-to-month</td>\n",
       "      <td>Yes</td>\n",
       "      <td>Electronic check</td>\n",
       "      <td>70.70</td>\n",
       "      <td>151.65</td>\n",
       "      <td>Yes</td>\n",
       "    </tr>\n",
       "  </tbody>\n",
       "</table>\n",
       "<p>5 rows × 21 columns</p>\n",
       "</div>"
      ],
      "text/plain": [
       "   customerID  gender  SeniorCitizen Partner Dependents  tenure PhoneService  \\\n",
       "0  7590-VHVEG  Female              0     Yes         No       1           No   \n",
       "1  5575-GNVDE    Male              0      No         No      34          Yes   \n",
       "2  3668-QPYBK    Male              0      No         No       2          Yes   \n",
       "3  7795-CFOCW    Male              0      No         No      45           No   \n",
       "4  9237-HQITU  Female              0      No         No       2          Yes   \n",
       "\n",
       "      MultipleLines InternetService OnlineSecurity  ... DeviceProtection  \\\n",
       "0  No phone service             DSL             No  ...               No   \n",
       "1                No             DSL            Yes  ...              Yes   \n",
       "2                No             DSL            Yes  ...               No   \n",
       "3  No phone service             DSL            Yes  ...              Yes   \n",
       "4                No     Fiber optic             No  ...               No   \n",
       "\n",
       "  TechSupport StreamingTV StreamingMovies        Contract PaperlessBilling  \\\n",
       "0          No          No              No  Month-to-month              Yes   \n",
       "1          No          No              No        One year               No   \n",
       "2          No          No              No  Month-to-month              Yes   \n",
       "3         Yes          No              No        One year               No   \n",
       "4          No          No              No  Month-to-month              Yes   \n",
       "\n",
       "               PaymentMethod MonthlyCharges  TotalCharges Churn  \n",
       "0           Electronic check          29.85         29.85    No  \n",
       "1               Mailed check          56.95        1889.5    No  \n",
       "2               Mailed check          53.85        108.15   Yes  \n",
       "3  Bank transfer (automatic)          42.30       1840.75    No  \n",
       "4           Electronic check          70.70        151.65   Yes  \n",
       "\n",
       "[5 rows x 21 columns]"
      ]
     },
     "execution_count": 2,
     "metadata": {},
     "output_type": "execute_result"
    }
   ],
   "source": [
    "df = pd.read_csv('customer_churn.csv', low_memory=False)\n",
    "print(df.shape)\n",
    "df.head(5)"
   ]
  },
  {
   "cell_type": "code",
   "execution_count": 3,
   "metadata": {},
   "outputs": [
    {
     "data": {
      "text/plain": [
       "<bound method NDFrame.describe of       customerID  gender  SeniorCitizen Partner Dependents  tenure  \\\n",
       "0     7590-VHVEG  Female              0     Yes         No       1   \n",
       "1     5575-GNVDE    Male              0      No         No      34   \n",
       "2     3668-QPYBK    Male              0      No         No       2   \n",
       "3     7795-CFOCW    Male              0      No         No      45   \n",
       "4     9237-HQITU  Female              0      No         No       2   \n",
       "5     9305-CDSKC  Female              0      No         No       8   \n",
       "6     1452-KIOVK    Male              0      No        Yes      22   \n",
       "7     6713-OKOMC  Female              0      No         No      10   \n",
       "8     7892-POOKP  Female              0     Yes         No      28   \n",
       "9     6388-TABGU    Male              0      No        Yes      62   \n",
       "10    9763-GRSKD    Male              0     Yes        Yes      13   \n",
       "11    7469-LKBCI    Male              0      No         No      16   \n",
       "12    8091-TTVAX    Male              0     Yes         No      58   \n",
       "13    0280-XJGEX    Male              0      No         No      49   \n",
       "14    5129-JLPIS    Male              0      No         No      25   \n",
       "15    3655-SNQYZ  Female              0     Yes        Yes      69   \n",
       "16    8191-XWSZG  Female              0      No         No      52   \n",
       "17    9959-WOFKT    Male              0      No        Yes      71   \n",
       "18    4190-MFLUW  Female              0     Yes        Yes      10   \n",
       "19    4183-MYFRB  Female              0      No         No      21   \n",
       "20    8779-QRDMV    Male              1      No         No       1   \n",
       "21    1680-VDCWW    Male              0     Yes         No      12   \n",
       "22    1066-JKSGK    Male              0      No         No       1   \n",
       "23    3638-WEABW  Female              0     Yes         No      58   \n",
       "24    6322-HRPFA    Male              0     Yes        Yes      49   \n",
       "25    6865-JZNKO  Female              0      No         No      30   \n",
       "26    6467-CHFZW    Male              0     Yes        Yes      47   \n",
       "27    8665-UTDHZ    Male              0     Yes        Yes       1   \n",
       "28    5248-YGIJN    Male              0     Yes         No      72   \n",
       "29    8773-HHUOZ  Female              0      No        Yes      17   \n",
       "...          ...     ...            ...     ...        ...     ...   \n",
       "7013  1685-BQULA  Female              0      No         No      40   \n",
       "7014  9053-EJUNL    Male              0      No         No      41   \n",
       "7015  0666-UXTJO    Male              1     Yes         No      34   \n",
       "7016  1471-GIQKQ  Female              0      No         No       1   \n",
       "7017  4807-IZYOZ  Female              0      No         No      51   \n",
       "7018  1122-JWTJW    Male              0     Yes        Yes       1   \n",
       "7019  9710-NJERN  Female              0      No         No      39   \n",
       "7020  9837-FWLCH    Male              0     Yes        Yes      12   \n",
       "7021  1699-HPSBG    Male              0      No         No      12   \n",
       "7022  7203-OYKCT    Male              0      No         No      72   \n",
       "7023  1035-IPQPU  Female              1     Yes         No      63   \n",
       "7024  7398-LXGYX    Male              0     Yes         No      44   \n",
       "7025  2823-LKABH  Female              0      No         No      18   \n",
       "7026  8775-CEBBJ  Female              0      No         No       9   \n",
       "7027  0550-DCXLH    Male              0      No         No      13   \n",
       "7028  9281-CEDRU  Female              0     Yes         No      68   \n",
       "7029  2235-DWLJU  Female              1      No         No       6   \n",
       "7030  0871-OPBXW  Female              0      No         No       2   \n",
       "7031  3605-JISKB    Male              1     Yes         No      55   \n",
       "7032  6894-LFHLY    Male              1      No         No       1   \n",
       "7033  9767-FFLEM    Male              0      No         No      38   \n",
       "7034  0639-TSIQW  Female              0      No         No      67   \n",
       "7035  8456-QDAVC    Male              0      No         No      19   \n",
       "7036  7750-EYXWZ  Female              0      No         No      12   \n",
       "7037  2569-WGERO  Female              0      No         No      72   \n",
       "7038  6840-RESVB    Male              0     Yes        Yes      24   \n",
       "7039  2234-XADUH  Female              0     Yes        Yes      72   \n",
       "7040  4801-JZAZL  Female              0     Yes        Yes      11   \n",
       "7041  8361-LTMKD    Male              1     Yes         No       4   \n",
       "7042  3186-AJIEK    Male              0      No         No      66   \n",
       "\n",
       "     PhoneService     MultipleLines InternetService       OnlineSecurity  ...  \\\n",
       "0              No  No phone service             DSL                   No  ...   \n",
       "1             Yes                No             DSL                  Yes  ...   \n",
       "2             Yes                No             DSL                  Yes  ...   \n",
       "3              No  No phone service             DSL                  Yes  ...   \n",
       "4             Yes                No     Fiber optic                   No  ...   \n",
       "5             Yes               Yes     Fiber optic                   No  ...   \n",
       "6             Yes               Yes     Fiber optic                   No  ...   \n",
       "7              No  No phone service             DSL                  Yes  ...   \n",
       "8             Yes               Yes     Fiber optic                   No  ...   \n",
       "9             Yes                No             DSL                  Yes  ...   \n",
       "10            Yes                No             DSL                  Yes  ...   \n",
       "11            Yes                No              No  No internet service  ...   \n",
       "12            Yes               Yes     Fiber optic                   No  ...   \n",
       "13            Yes               Yes     Fiber optic                   No  ...   \n",
       "14            Yes                No     Fiber optic                  Yes  ...   \n",
       "15            Yes               Yes     Fiber optic                  Yes  ...   \n",
       "16            Yes                No              No  No internet service  ...   \n",
       "17            Yes               Yes     Fiber optic                  Yes  ...   \n",
       "18            Yes                No             DSL                   No  ...   \n",
       "19            Yes                No     Fiber optic                   No  ...   \n",
       "20             No  No phone service             DSL                   No  ...   \n",
       "21            Yes                No              No  No internet service  ...   \n",
       "22            Yes                No              No  No internet service  ...   \n",
       "23            Yes               Yes             DSL                   No  ...   \n",
       "24            Yes                No             DSL                  Yes  ...   \n",
       "25            Yes                No             DSL                  Yes  ...   \n",
       "26            Yes               Yes     Fiber optic                   No  ...   \n",
       "27             No  No phone service             DSL                   No  ...   \n",
       "28            Yes               Yes             DSL                  Yes  ...   \n",
       "29            Yes                No             DSL                   No  ...   \n",
       "...           ...               ...             ...                  ...  ...   \n",
       "7013          Yes               Yes     Fiber optic                   No  ...   \n",
       "7014          Yes               Yes     Fiber optic                   No  ...   \n",
       "7015          Yes                No     Fiber optic                   No  ...   \n",
       "7016          Yes                No             DSL                   No  ...   \n",
       "7017          Yes                No              No  No internet service  ...   \n",
       "7018          Yes                No     Fiber optic                   No  ...   \n",
       "7019          Yes                No              No  No internet service  ...   \n",
       "7020          Yes                No              No  No internet service  ...   \n",
       "7021          Yes                No             DSL                   No  ...   \n",
       "7022          Yes               Yes     Fiber optic                   No  ...   \n",
       "7023          Yes               Yes     Fiber optic                   No  ...   \n",
       "7024          Yes               Yes     Fiber optic                  Yes  ...   \n",
       "7025          Yes               Yes     Fiber optic                   No  ...   \n",
       "7026          Yes                No             DSL                   No  ...   \n",
       "7027          Yes                No             DSL                   No  ...   \n",
       "7028          Yes                No             DSL                   No  ...   \n",
       "7029           No  No phone service             DSL                   No  ...   \n",
       "7030          Yes                No              No  No internet service  ...   \n",
       "7031          Yes               Yes             DSL                  Yes  ...   \n",
       "7032          Yes               Yes     Fiber optic                   No  ...   \n",
       "7033          Yes                No     Fiber optic                   No  ...   \n",
       "7034          Yes               Yes     Fiber optic                  Yes  ...   \n",
       "7035          Yes                No     Fiber optic                   No  ...   \n",
       "7036           No  No phone service             DSL                   No  ...   \n",
       "7037          Yes                No              No  No internet service  ...   \n",
       "7038          Yes               Yes             DSL                  Yes  ...   \n",
       "7039          Yes               Yes     Fiber optic                   No  ...   \n",
       "7040           No  No phone service             DSL                  Yes  ...   \n",
       "7041          Yes               Yes     Fiber optic                   No  ...   \n",
       "7042          Yes                No     Fiber optic                  Yes  ...   \n",
       "\n",
       "         DeviceProtection          TechSupport          StreamingTV  \\\n",
       "0                      No                   No                   No   \n",
       "1                     Yes                   No                   No   \n",
       "2                      No                   No                   No   \n",
       "3                     Yes                  Yes                   No   \n",
       "4                      No                   No                   No   \n",
       "5                     Yes                   No                  Yes   \n",
       "6                      No                   No                  Yes   \n",
       "7                      No                   No                   No   \n",
       "8                     Yes                  Yes                  Yes   \n",
       "9                      No                   No                   No   \n",
       "10                     No                   No                   No   \n",
       "11    No internet service  No internet service  No internet service   \n",
       "12                    Yes                   No                  Yes   \n",
       "13                    Yes                   No                  Yes   \n",
       "14                    Yes                  Yes                  Yes   \n",
       "15                    Yes                  Yes                  Yes   \n",
       "16    No internet service  No internet service  No internet service   \n",
       "17                    Yes                   No                  Yes   \n",
       "18                    Yes                  Yes                   No   \n",
       "19                    Yes                   No                   No   \n",
       "20                    Yes                   No                   No   \n",
       "21    No internet service  No internet service  No internet service   \n",
       "22    No internet service  No internet service  No internet service   \n",
       "23                     No                  Yes                   No   \n",
       "24                     No                  Yes                   No   \n",
       "25                     No                   No                   No   \n",
       "26                     No                   No                  Yes   \n",
       "27                     No                   No                   No   \n",
       "28                    Yes                  Yes                  Yes   \n",
       "29                     No                   No                  Yes   \n",
       "...                   ...                  ...                  ...   \n",
       "7013                  Yes                   No                  Yes   \n",
       "7014                   No                   No                  Yes   \n",
       "7015                  Yes                   No                  Yes   \n",
       "7016                   No                   No                   No   \n",
       "7017  No internet service  No internet service  No internet service   \n",
       "7018                   No                   No                   No   \n",
       "7019  No internet service  No internet service  No internet service   \n",
       "7020  No internet service  No internet service  No internet service   \n",
       "7021                   No                  Yes                  Yes   \n",
       "7022                  Yes                   No                  Yes   \n",
       "7023                  Yes                   No                  Yes   \n",
       "7024                  Yes                   No                   No   \n",
       "7025                  Yes                  Yes                   No   \n",
       "7026                   No                   No                   No   \n",
       "7027                   No                  Yes                  Yes   \n",
       "7028                   No                  Yes                  Yes   \n",
       "7029                   No                   No                  Yes   \n",
       "7030  No internet service  No internet service  No internet service   \n",
       "7031                   No                   No                   No   \n",
       "7032                   No                   No                   No   \n",
       "7033                   No                   No                   No   \n",
       "7034                  Yes                   No                  Yes   \n",
       "7035                   No                   No                  Yes   \n",
       "7036                  Yes                  Yes                  Yes   \n",
       "7037  No internet service  No internet service  No internet service   \n",
       "7038                  Yes                  Yes                  Yes   \n",
       "7039                  Yes                   No                  Yes   \n",
       "7040                   No                   No                   No   \n",
       "7041                   No                   No                   No   \n",
       "7042                  Yes                  Yes                  Yes   \n",
       "\n",
       "          StreamingMovies        Contract PaperlessBilling  \\\n",
       "0                      No  Month-to-month              Yes   \n",
       "1                      No        One year               No   \n",
       "2                      No  Month-to-month              Yes   \n",
       "3                      No        One year               No   \n",
       "4                      No  Month-to-month              Yes   \n",
       "5                     Yes  Month-to-month              Yes   \n",
       "6                      No  Month-to-month              Yes   \n",
       "7                      No  Month-to-month               No   \n",
       "8                     Yes  Month-to-month              Yes   \n",
       "9                      No        One year               No   \n",
       "10                     No  Month-to-month              Yes   \n",
       "11    No internet service        Two year               No   \n",
       "12                    Yes        One year               No   \n",
       "13                    Yes  Month-to-month              Yes   \n",
       "14                    Yes  Month-to-month              Yes   \n",
       "15                    Yes        Two year               No   \n",
       "16    No internet service        One year               No   \n",
       "17                    Yes        Two year               No   \n",
       "18                     No  Month-to-month               No   \n",
       "19                    Yes  Month-to-month              Yes   \n",
       "20                    Yes  Month-to-month              Yes   \n",
       "21    No internet service        One year               No   \n",
       "22    No internet service  Month-to-month               No   \n",
       "23                     No        Two year              Yes   \n",
       "24                     No  Month-to-month               No   \n",
       "25                     No  Month-to-month              Yes   \n",
       "26                    Yes  Month-to-month              Yes   \n",
       "27                     No  Month-to-month               No   \n",
       "28                    Yes        Two year              Yes   \n",
       "29                    Yes  Month-to-month              Yes   \n",
       "...                   ...             ...              ...   \n",
       "7013                   No  Month-to-month              Yes   \n",
       "7014                   No  Month-to-month              Yes   \n",
       "7015                   No  Month-to-month              Yes   \n",
       "7016                   No  Month-to-month               No   \n",
       "7017  No internet service        Two year               No   \n",
       "7018                   No  Month-to-month              Yes   \n",
       "7019  No internet service        Two year               No   \n",
       "7020  No internet service  Month-to-month              Yes   \n",
       "7021                   No        One year              Yes   \n",
       "7022                  Yes        One year              Yes   \n",
       "7023                  Yes  Month-to-month              Yes   \n",
       "7024                   No  Month-to-month              Yes   \n",
       "7025                  Yes  Month-to-month              Yes   \n",
       "7026                   No  Month-to-month              Yes   \n",
       "7027                  Yes  Month-to-month               No   \n",
       "7028                   No        Two year               No   \n",
       "7029                  Yes  Month-to-month              Yes   \n",
       "7030  No internet service  Month-to-month              Yes   \n",
       "7031                   No        One year               No   \n",
       "7032                   No  Month-to-month              Yes   \n",
       "7033                   No  Month-to-month              Yes   \n",
       "7034                   No  Month-to-month              Yes   \n",
       "7035                   No  Month-to-month              Yes   \n",
       "7036                  Yes        One year               No   \n",
       "7037  No internet service        Two year              Yes   \n",
       "7038                  Yes        One year              Yes   \n",
       "7039                  Yes        One year              Yes   \n",
       "7040                   No  Month-to-month              Yes   \n",
       "7041                   No  Month-to-month              Yes   \n",
       "7042                  Yes        Two year              Yes   \n",
       "\n",
       "                  PaymentMethod MonthlyCharges  TotalCharges Churn  \n",
       "0              Electronic check          29.85         29.85    No  \n",
       "1                  Mailed check          56.95        1889.5    No  \n",
       "2                  Mailed check          53.85        108.15   Yes  \n",
       "3     Bank transfer (automatic)          42.30       1840.75    No  \n",
       "4              Electronic check          70.70        151.65   Yes  \n",
       "5              Electronic check          99.65         820.5   Yes  \n",
       "6       Credit card (automatic)          89.10        1949.4    No  \n",
       "7                  Mailed check          29.75         301.9    No  \n",
       "8              Electronic check         104.80       3046.05   Yes  \n",
       "9     Bank transfer (automatic)          56.15       3487.95    No  \n",
       "10                 Mailed check          49.95        587.45    No  \n",
       "11      Credit card (automatic)          18.95         326.8    No  \n",
       "12      Credit card (automatic)         100.35        5681.1    No  \n",
       "13    Bank transfer (automatic)         103.70        5036.3   Yes  \n",
       "14             Electronic check         105.50       2686.05    No  \n",
       "15      Credit card (automatic)         113.25       7895.15    No  \n",
       "16                 Mailed check          20.65       1022.95    No  \n",
       "17    Bank transfer (automatic)         106.70       7382.25    No  \n",
       "18      Credit card (automatic)          55.20        528.35   Yes  \n",
       "19             Electronic check          90.05        1862.9    No  \n",
       "20             Electronic check          39.65         39.65   Yes  \n",
       "21    Bank transfer (automatic)          19.80        202.25    No  \n",
       "22                 Mailed check          20.15         20.15   Yes  \n",
       "23      Credit card (automatic)          59.90        3505.1    No  \n",
       "24      Credit card (automatic)          59.60        2970.3    No  \n",
       "25    Bank transfer (automatic)          55.30        1530.6    No  \n",
       "26             Electronic check          99.35       4749.15   Yes  \n",
       "27             Electronic check          30.20          30.2   Yes  \n",
       "28      Credit card (automatic)          90.25       6369.45    No  \n",
       "29                 Mailed check          64.70        1093.1   Yes  \n",
       "...                         ...            ...           ...   ...  \n",
       "7013  Bank transfer (automatic)          93.40        3756.4    No  \n",
       "7014           Electronic check          89.20       3645.75    No  \n",
       "7015    Credit card (automatic)          85.20       2874.45    No  \n",
       "7016           Electronic check          49.95         49.95    No  \n",
       "7017  Bank transfer (automatic)          20.65       1020.75    No  \n",
       "7018               Mailed check          70.65         70.65   Yes  \n",
       "7019               Mailed check          20.15           826    No  \n",
       "7020           Electronic check          19.20           239    No  \n",
       "7021           Electronic check          59.80         727.8   Yes  \n",
       "7022           Electronic check         104.95        7544.3    No  \n",
       "7023           Electronic check         103.50        6479.4    No  \n",
       "7024    Credit card (automatic)          84.80       3626.35    No  \n",
       "7025  Bank transfer (automatic)          95.05        1679.4    No  \n",
       "7026  Bank transfer (automatic)          44.20        403.35   Yes  \n",
       "7027               Mailed check          73.35        931.55    No  \n",
       "7028  Bank transfer (automatic)          64.10       4326.25    No  \n",
       "7029           Electronic check          44.40        263.05    No  \n",
       "7030               Mailed check          20.05         39.25    No  \n",
       "7031    Credit card (automatic)          60.00        3316.1    No  \n",
       "7032           Electronic check          75.75         75.75   Yes  \n",
       "7033    Credit card (automatic)          69.50       2625.25    No  \n",
       "7034    Credit card (automatic)         102.95       6886.25   Yes  \n",
       "7035  Bank transfer (automatic)          78.70        1495.1    No  \n",
       "7036           Electronic check          60.65         743.3    No  \n",
       "7037  Bank transfer (automatic)          21.15        1419.4    No  \n",
       "7038               Mailed check          84.80        1990.5    No  \n",
       "7039    Credit card (automatic)         103.20        7362.9    No  \n",
       "7040           Electronic check          29.60        346.45    No  \n",
       "7041               Mailed check          74.40         306.6   Yes  \n",
       "7042  Bank transfer (automatic)         105.65        6844.5    No  \n",
       "\n",
       "[7043 rows x 21 columns]>"
      ]
     },
     "execution_count": 3,
     "metadata": {},
     "output_type": "execute_result"
    }
   ],
   "source": [
    "df.describe"
   ]
  },
  {
   "cell_type": "code",
   "execution_count": 4,
   "metadata": {},
   "outputs": [
    {
     "data": {
      "text/plain": [
       "customerID          0\n",
       "gender              0\n",
       "SeniorCitizen       0\n",
       "Partner             0\n",
       "Dependents          0\n",
       "tenure              0\n",
       "PhoneService        0\n",
       "MultipleLines       0\n",
       "InternetService     0\n",
       "OnlineSecurity      0\n",
       "OnlineBackup        0\n",
       "DeviceProtection    0\n",
       "TechSupport         0\n",
       "StreamingTV         0\n",
       "StreamingMovies     0\n",
       "Contract            0\n",
       "PaperlessBilling    0\n",
       "PaymentMethod       0\n",
       "MonthlyCharges      0\n",
       "TotalCharges        0\n",
       "Churn               0\n",
       "dtype: int64"
      ]
     },
     "execution_count": 4,
     "metadata": {},
     "output_type": "execute_result"
    }
   ],
   "source": [
    "df.isnull().sum()"
   ]
  },
  {
   "cell_type": "code",
   "execution_count": 5,
   "metadata": {},
   "outputs": [
    {
     "data": {
      "text/plain": [
       "Index(['customerID', 'gender', 'SeniorCitizen', 'Partner', 'Dependents',\n",
       "       'tenure', 'PhoneService', 'MultipleLines', 'InternetService',\n",
       "       'OnlineSecurity', 'OnlineBackup', 'DeviceProtection', 'TechSupport',\n",
       "       'StreamingTV', 'StreamingMovies', 'Contract', 'PaperlessBilling',\n",
       "       'PaymentMethod', 'MonthlyCharges', 'TotalCharges', 'Churn'],\n",
       "      dtype='object')"
      ]
     },
     "execution_count": 5,
     "metadata": {},
     "output_type": "execute_result"
    }
   ],
   "source": [
    "df.columns"
   ]
  },
  {
   "cell_type": "markdown",
   "metadata": {},
   "source": [
    "### Data Cleaning and Preparation"
   ]
  },
  {
   "cell_type": "code",
   "execution_count": 6,
   "metadata": {},
   "outputs": [],
   "source": [
    "model_features = ['SeniorCitizen', 'Dependents','PhoneService','MultipleLines', 'InternetService',\n",
    "       'OnlineSecurity', 'OnlineBackup','StreamingTV', 'Contract', 'PaperlessBilling',\n",
    "       'PaymentMethod', 'MonthlyCharges']\n",
    "X = pd.get_dummies(df[model_features], drop_first=False)\n",
    "X = np.asanyarray(X.values).astype(float)"
   ]
  },
  {
   "cell_type": "code",
   "execution_count": 7,
   "metadata": {},
   "outputs": [],
   "source": [
    "df['Churn'] = (df.Churn=='Yes').astype(int)"
   ]
  },
  {
   "cell_type": "code",
   "execution_count": 8,
   "metadata": {},
   "outputs": [],
   "source": [
    "# model ouput\n",
    "y = np.asanyarray(df.Churn.values)"
   ]
  },
  {
   "cell_type": "code",
   "execution_count": 9,
   "metadata": {
    "collapsed": true
   },
   "outputs": [
    {
     "data": {
      "text/plain": [
       "array([[-0.43991649, -1.16032292,  0.65401193, -0.65401193,  3.05401039,\n",
       "        -3.05401039, -0.96332984,  3.05401039, -0.85417615,  1.38171215,\n",
       "        -0.88565976, -0.52592737,  1.00669571, -0.52592737, -0.63393298,\n",
       "        -0.88361972, -0.52592737,  1.3782406 ,  1.2273572 , -0.52592737,\n",
       "        -0.79013171,  0.90418382, -0.51424938, -0.56297505, -0.8297975 ,\n",
       "         0.8297975 , -0.5298852 , -0.52504733,  1.40641839, -0.54480692],\n",
       "       [-0.43991649, -0.25962894,  0.65401193, -0.65401193, -0.32743831,\n",
       "         0.32743831,  1.03806605, -0.32743831, -0.85417615,  1.38171215,\n",
       "        -0.88565976, -0.52592737, -0.99334883, -0.52592737,  1.57745383,\n",
       "         1.13170855, -0.52592737, -0.72556272,  1.2273572 , -0.52592737,\n",
       "        -0.79013171, -1.1059698 ,  1.94458183, -0.56297505,  1.20511329,\n",
       "        -1.20511329, -0.5298852 , -0.52504733, -0.71102597,  1.83551265],\n",
       "       [-0.43991649, -0.36266036,  0.65401193, -0.65401193, -0.32743831,\n",
       "         0.32743831,  1.03806605, -0.32743831, -0.85417615,  1.38171215,\n",
       "        -0.88565976, -0.52592737, -0.99334883, -0.52592737,  1.57745383,\n",
       "        -0.88361972, -0.52592737,  1.3782406 ,  1.2273572 , -0.52592737,\n",
       "        -0.79013171,  0.90418382, -0.51424938, -0.56297505, -0.8297975 ,\n",
       "         0.8297975 , -0.5298852 , -0.52504733, -0.71102597,  1.83551265]])"
      ]
     },
     "execution_count": 9,
     "metadata": {},
     "output_type": "execute_result"
    }
   ],
   "source": [
    "# Normalizing and Standardizing the data\n",
    "X = StandardScaler().fit_transform(X)\n",
    "X[:3]"
   ]
  },
  {
   "cell_type": "markdown",
   "metadata": {},
   "source": [
    "#### Splitting the Data"
   ]
  },
  {
   "cell_type": "code",
   "execution_count": 10,
   "metadata": {},
   "outputs": [
    {
     "name": "stdout",
     "output_type": "stream",
     "text": [
      "Length of the training data is: 4930\n",
      "Length of the testing data is: 2113\n"
     ]
    }
   ],
   "source": [
    "X_train, X_test, y_train, y_test = train_test_split(X,y, test_size = 0.30, random_state=42)\n",
    "print('Length of the training data is:', (X_train.shape[0]))\n",
    "print('Length of the testing data is:', (y_test.shape[0]))"
   ]
  },
  {
   "cell_type": "markdown",
   "metadata": {},
   "source": [
    "### Models Selection and Training"
   ]
  },
  {
   "cell_type": "markdown",
   "metadata": {},
   "source": [
    "For this task, we are going to train four different ML models and conduct evaluation for the performance of every single one of them. After this, we will pick the model with the best performance as our model of choice.\n",
    "The algorithms that we will use are;\n",
    "</br>. KNN </br>\n",
    ". DECISION TREES</br>\n",
    ". LOGISTIC REGRESSION\n",
    ". SUPPORT VECTOR MACHINES"
   ]
  },
  {
   "cell_type": "markdown",
   "metadata": {},
   "source": [
    "#### KNN Classification"
   ]
  },
  {
   "cell_type": "code",
   "execution_count": 11,
   "metadata": {},
   "outputs": [
    {
     "data": {
      "text/plain": [
       "KNeighborsClassifier(n_neighbors=4)"
      ]
     },
     "execution_count": 11,
     "metadata": {},
     "output_type": "execute_result"
    }
   ],
   "source": [
    "# TRAINING\n",
    "k = 4\n",
    "knn = KNeighborsClassifier(n_neighbors = k)\n",
    "knn.fit(X_train, y_train)\n",
    "KNeighborsClassifier(n_neighbors=4)"
   ]
  },
  {
   "cell_type": "code",
   "execution_count": 13,
   "metadata": {},
   "outputs": [
    {
     "data": {
      "text/plain": [
       "array([1, 0, 0, 0, 0])"
      ]
     },
     "execution_count": 13,
     "metadata": {},
     "output_type": "execute_result"
    }
   ],
   "source": [
    "# PREDICTING\n",
    "y_pred = knn.predict(X_test)\n",
    "y_pred[:5]  #predicted values"
   ]
  },
  {
   "cell_type": "code",
   "execution_count": 14,
   "metadata": {},
   "outputs": [
    {
     "data": {
      "text/plain": [
       "array([1, 0, 0, 1, 0])"
      ]
     },
     "execution_count": 14,
     "metadata": {},
     "output_type": "execute_result"
    }
   ],
   "source": [
    "y_test[:5] #actual values"
   ]
  },
  {
   "cell_type": "markdown",
   "metadata": {},
   "source": [
    "##### Evaluation"
   ]
  },
  {
   "cell_type": "code",
   "execution_count": 15,
   "metadata": {},
   "outputs": [
    {
     "name": "stdout",
     "output_type": "stream",
     "text": [
      "Train set Accuracy:  0.8245436105476673\n",
      "Test set Accuracy:  0.7501183151916706\n"
     ]
    }
   ],
   "source": [
    "train_set_acc = accuracy_score(y_train, knn.predict(X_train)) \n",
    "test_set_acc = accuracy_score(y_test, y_pred)\n",
    "print(\"Train set Accuracy: \", train_set_acc)\n",
    "print(\"Test set Accuracy: \", test_set_acc)"
   ]
  },
  {
   "cell_type": "markdown",
   "metadata": {},
   "source": [
    "##### Choosing other values of K\n",
    "Let us train our model with various values of K and then pick the value of K that has the highest mean accuracy"
   ]
  },
  {
   "cell_type": "code",
   "execution_count": 16,
   "metadata": {},
   "outputs": [
    {
     "data": {
      "text/plain": [
       "array([0.71178419, 0.73024136, 0.72030289, 0.75011832, 0.74917179,\n",
       "       0.75295788, 0.75295788, 0.75343114, 0.76053005])"
      ]
     },
     "execution_count": 16,
     "metadata": {},
     "output_type": "execute_result"
    }
   ],
   "source": [
    "Ks = 10\n",
    "mean_acc = np.zeros((Ks-1)) #np.zeros((Ks-1)) returns a numpy array of length 9 (10-1) all with default values of 0 eg [0,0,..., 0]\n",
    "std_acc = np.zeros((Ks-1))\n",
    "\n",
    "for i in range(1,Ks):\n",
    "    \n",
    "    #Training and predicting the model\n",
    "    knn = KNeighborsClassifier(n_neighbors = i)\n",
    "    knn.fit(X_train, y_train)\n",
    "    y_pred = knn.predict(X_test)\n",
    "    \n",
    "    #Evaluating accuracy for each value of k\n",
    "    mean_acc[i-1] = accuracy_score(y_test, y_pred)\n",
    "    std_acc[i-1] = np.std(y_pred==y_test)/np.sqrt(y_pred.shape)\n",
    "    \n",
    "mean_acc"
   ]
  },
  {
   "cell_type": "markdown",
   "metadata": {},
   "source": [
    "##### Plotting different values of K"
   ]
  },
  {
   "cell_type": "code",
   "execution_count": 17,
   "metadata": {},
   "outputs": [
    {
     "data": {
      "image/png": "[encoded data removed]",
      "text/plain": [
       "<Figure size 432x360 with 1 Axes>"
      ]
     },
     "metadata": {
      "needs_background": "light"
     },
     "output_type": "display_data"
    }
   ],
   "source": [
    "plt.figure(figsize=(6,5))\n",
    "plt.plot(range(1,Ks), mean_acc, color='g')\n",
    "plt.fill_between(range(1,Ks), mean_acc - 1 * std_acc, mean_acc + 1 * std_acc, alpha = 0.1)\n",
    "plt.fill_between(range(1,Ks), mean_acc - 3 * std_acc, mean_acc +1 * std_acc, alpha = 0.1, color='g')\n",
    "plt.legend(('Accuracy ', '+/- 1xstd','+/- 3xstd'))\n",
    "plt.ylabel('Accuracy ')\n",
    "plt.xlabel('Number of Neighbors (K)')\n",
    "plt.tight_layout()\n",
    "plt.show()"
   ]
  },
  {
   "cell_type": "code",
   "execution_count": 23,
   "metadata": {},
   "outputs": [
    {
     "name": "stdout",
     "output_type": "stream",
     "text": [
      "The highest accuracy score was 0.761 with a k value of 9\n"
     ]
    }
   ],
   "source": [
    "highest_acc_score = mean_acc.max()\n",
    "most_acc_k_value = mean_acc.argmax()+1\n",
    "print('The highest accuracy score was {:.3f}' .format(highest_acc_score), 'with a k value of', most_acc_k_value)"
   ]
  },
  {
   "cell_type": "markdown",
   "metadata": {},
   "source": [
    "### DECISION TREES"
   ]
  },
  {
   "cell_type": "code",
   "execution_count": 19,
   "metadata": {},
   "outputs": [
    {
     "data": {
      "text/plain": [
       "DecisionTreeClassifier(criterion='entropy', max_depth=10)"
      ]
     },
     "execution_count": 19,
     "metadata": {},
     "output_type": "execute_result"
    }
   ],
   "source": [
    "# Training the model\n",
    "dt = DecisionTreeClassifier(criterion='entropy', max_depth=10)\n",
    "dt.fit(X_train, y_train)"
   ]
  },
  {
   "cell_type": "code",
   "execution_count": 20,
   "metadata": {},
   "outputs": [
    {
     "name": "stdout",
     "output_type": "stream",
     "text": [
      "[1 0 0 1 0]\n",
      "[0 0 0 1 0]\n"
     ]
    }
   ],
   "source": [
    "# Making predictions\n",
    "y_pred = dt.predict(X_test)\n",
    "\n",
    "print(y_test[:5])\n",
    "print(y_pred[:5])"
   ]
  },
  {
   "cell_type": "code",
   "execution_count": 21,
   "metadata": {},
   "outputs": [
    {
     "name": "stdout",
     "output_type": "stream",
     "text": [
      "Decision Tree Accuracy: 0.752\n"
     ]
    }
   ],
   "source": [
    "# Evaluating\n",
    "Decision_tree_accuracy = accuracy_score(y_test, y_pred)\n",
    "print('Decision Tree Accuracy: {:.3f}' .format(Decision_tree_accuracy))"
   ]
  },
  {
   "cell_type": "code",
   "execution_count": 24,
   "metadata": {},
   "outputs": [],
   "source": [
    "# Plotting output\n",
    "from  io import StringIO\n",
    "import pydotplus\n",
    "import matplotlib.image as mpimg\n",
    "from sklearn import tree\n",
    "%matplotlib inline "
   ]
  },
  {
   "cell_type": "code",
   "execution_count": 25,
   "metadata": {
    "collapsed": true
   },
   "outputs": [
    {
     "ename": "NameError",
     "evalue": "name 'my_features' is not defined",
     "output_type": "error",
     "traceback": [
      "\u001b[1;31m---------------------------------------------------------------------------\u001b[0m",
      "\u001b[1;31mNameError\u001b[0m                                 Traceback (most recent call last)",
      "\u001b[1;32m<ipython-input-25-08cf22f527f4>\u001b[0m in \u001b[0;36m<module>\u001b[1;34m\u001b[0m\n\u001b[0;32m      1\u001b[0m \u001b[0mdot_data\u001b[0m \u001b[1;33m=\u001b[0m \u001b[0mStringIO\u001b[0m\u001b[1;33m(\u001b[0m\u001b[1;33m)\u001b[0m\u001b[1;33m\u001b[0m\u001b[1;33m\u001b[0m\u001b[0m\n\u001b[0;32m      2\u001b[0m \u001b[0mfilename\u001b[0m \u001b[1;33m=\u001b[0m \u001b[1;34m\"drugtree.png\"\u001b[0m\u001b[1;33m\u001b[0m\u001b[1;33m\u001b[0m\u001b[0m\n\u001b[1;32m----> 3\u001b[1;33m \u001b[0mfeatureNames\u001b[0m \u001b[1;33m=\u001b[0m \u001b[0mmy_features\u001b[0m\u001b[1;33m\u001b[0m\u001b[1;33m\u001b[0m\u001b[0m\n\u001b[0m\u001b[0;32m      4\u001b[0m \u001b[0mout\u001b[0m\u001b[1;33m=\u001b[0m\u001b[0mtree\u001b[0m\u001b[1;33m.\u001b[0m\u001b[0mexport_graphviz\u001b[0m\u001b[1;33m(\u001b[0m\u001b[0mdt\u001b[0m\u001b[1;33m,\u001b[0m\u001b[0mfeature_names\u001b[0m\u001b[1;33m=\u001b[0m\u001b[0mfeatureNames\u001b[0m\u001b[1;33m,\u001b[0m \u001b[0mout_file\u001b[0m\u001b[1;33m=\u001b[0m\u001b[0mdot_data\u001b[0m\u001b[1;33m,\u001b[0m \u001b[0mclass_names\u001b[0m\u001b[1;33m=\u001b[0m \u001b[0mnp\u001b[0m\u001b[1;33m.\u001b[0m\u001b[0munique\u001b[0m\u001b[1;33m(\u001b[0m\u001b[0my_train\u001b[0m\u001b[1;33m)\u001b[0m\u001b[1;33m,\u001b[0m \u001b[0mfilled\u001b[0m\u001b[1;33m=\u001b[0m\u001b[1;32mTrue\u001b[0m\u001b[1;33m,\u001b[0m  \u001b[0mspecial_characters\u001b[0m\u001b[1;33m=\u001b[0m\u001b[1;32mTrue\u001b[0m\u001b[1;33m,\u001b[0m\u001b[0mrotate\u001b[0m\u001b[1;33m=\u001b[0m\u001b[1;32mFalse\u001b[0m\u001b[1;33m)\u001b[0m\u001b[1;33m\u001b[0m\u001b[1;33m\u001b[0m\u001b[0m\n\u001b[0;32m      5\u001b[0m \u001b[0mgraph\u001b[0m \u001b[1;33m=\u001b[0m \u001b[0mpydotplus\u001b[0m\u001b[1;33m.\u001b[0m\u001b[0mgraph_from_dot_data\u001b[0m\u001b[1;33m(\u001b[0m\u001b[0mdot_data\u001b[0m\u001b[1;33m.\u001b[0m\u001b[0mgetvalue\u001b[0m\u001b[1;33m(\u001b[0m\u001b[1;33m)\u001b[0m\u001b[1;33m)\u001b[0m\u001b[1;33m\u001b[0m\u001b[1;33m\u001b[0m\u001b[0m\n",
      "\u001b[1;31mNameError\u001b[0m: name 'my_features' is not defined"
     ]
    }
   ],
   "source": [
    "dot_data = StringIO()\n",
    "filename = \"drugtree.png\"\n",
    "featureNames = my_features\n",
    "out=tree.export_graphviz(dt,feature_names=featureNames, out_file=dot_data, class_names= np.unique(y_train), filled=True,  special_characters=True,rotate=False)  \n",
    "graph = pydotplus.graph_from_dot_data(dot_data.getvalue())  \n",
    "graph.write_png(filename)\n",
    "img = mpimg.imread(filename)\n",
    "plt.figure(figsize=(100, 200))\n",
    "plt.imshow(img,interpolation='nearest')"
   ]
  },
  {
   "cell_type": "markdown",
   "metadata": {},
   "source": [
    "### LOGISTIC REGRESSION"
   ]
  },
  {
   "cell_type": "code",
   "execution_count": 26,
   "metadata": {},
   "outputs": [
    {
     "data": {
      "text/plain": [
       "LogisticRegression(C=0.1, solver='liblinear')"
      ]
     },
     "execution_count": 26,
     "metadata": {},
     "output_type": "execute_result"
    }
   ],
   "source": [
    "#Training\n",
    "lgr = LogisticRegression(C=0.1, solver='liblinear')\n",
    "lgr.fit(X_train, y_train)"
   ]
  },
  {
   "cell_type": "code",
   "execution_count": 27,
   "metadata": {},
   "outputs": [
    {
     "name": "stdout",
     "output_type": "stream",
     "text": [
      "[1 0 0 1 0]\n",
      "[1 0 0 1 0]\n"
     ]
    }
   ],
   "source": [
    "#Prediction\n",
    "y_pred = lgr.predict(X_test)\n",
    "print(y_test[:5])\n",
    "print(y_pred[:5])"
   ]
  },
  {
   "cell_type": "code",
   "execution_count": 28,
   "metadata": {},
   "outputs": [
    {
     "data": {
      "text/plain": [
       "array([[0.46642842, 0.53357158],\n",
       "       [0.82743264, 0.17256736],\n",
       "       [0.98375814, 0.01624186],\n",
       "       ...,\n",
       "       [0.98830279, 0.01169721],\n",
       "       [0.47617819, 0.52382181],\n",
       "       [0.58144401, 0.41855599]])"
      ]
     },
     "execution_count": 28,
     "metadata": {},
     "output_type": "execute_result"
    }
   ],
   "source": [
    "#Finding The Probability of our prediction\n",
    "ypred_prob = lgr.predict_proba(X_test)\n",
    "ypred_prob"
   ]
  },
  {
   "cell_type": "code",
   "execution_count": 29,
   "metadata": {},
   "outputs": [
    {
     "name": "stdout",
     "output_type": "stream",
     "text": [
      "Decision Tree Accuracy: 0.787\n"
     ]
    }
   ],
   "source": [
    "# Evaluating\n",
    "Logistic_regr_accuracy = accuracy_score(y_test, y_pred)\n",
    "print('Decision Tree Accuracy: {:.3f}' .format(Logistic_regr_accuracy))"
   ]
  },
  {
   "cell_type": "markdown",
   "metadata": {},
   "source": [
    "### SUPPORT VECTOR MACHINES"
   ]
  },
  {
   "cell_type": "code",
   "execution_count": 30,
   "metadata": {},
   "outputs": [
    {
     "data": {
      "text/plain": [
       "SVC()"
      ]
     },
     "execution_count": 30,
     "metadata": {},
     "output_type": "execute_result"
    }
   ],
   "source": [
    "# Training the model\n",
    "svm = SVC(kernel='rbf')\n",
    "svm.fit(X_train, y_train)"
   ]
  },
  {
   "cell_type": "code",
   "execution_count": 31,
   "metadata": {},
   "outputs": [
    {
     "name": "stdout",
     "output_type": "stream",
     "text": [
      "[1 0 0 1 0]\n",
      "[1 0 0 1 0]\n"
     ]
    }
   ],
   "source": [
    "y_pred = svm.predict(X_test)\n",
    "y_pred[0:5]\n",
    "\n",
    "print(y_test[:5])\n",
    "print(y_pred[:5])"
   ]
  },
  {
   "cell_type": "code",
   "execution_count": 32,
   "metadata": {},
   "outputs": [
    {
     "name": "stdout",
     "output_type": "stream",
     "text": [
      "Decision Tree Accuracy: 0.777\n"
     ]
    }
   ],
   "source": [
    "# Evaluating\n",
    "svm_accuracy = accuracy_score(y_test, y_pred)\n",
    "print('Decision Tree Accuracy: {:.3f}' .format(svm_accuracy))"
   ]
  },
  {
   "cell_type": "markdown",
   "metadata": {},
   "source": [
    "### Conclusion"
   ]
  },
  {
   "cell_type": "markdown",
   "metadata": {},
   "source": [
    "From the above, we can see that the model that has the best performance is the Logistic Regression.\n",
    "Using this model, we can now make predictions on whether the bank's customers will predict to our credict card services or they will churn them."
   ]
  },
  {
   "cell_type": "markdown",
   "metadata": {},
   "source": [
    "The following are the accuracy scores for all the models performances"
   ]
  },
  {
   "cell_type": "code",
   "execution_count": 33,
   "metadata": {},
   "outputs": [
    {
     "name": "stdout",
     "output_type": "stream",
     "text": [
      "The highest accuracy score was 0.761 with a k value of 9\n",
      "Decision Tree Accuracy: 0.752\n",
      "Decision Tree Accuracy: 0.787\n",
      "Decision Tree Accuracy: 0.777\n"
     ]
    }
   ],
   "source": [
    "print('The highest accuracy score was {:.3f}' .format(highest_acc_score), 'with a k value of', most_acc_k_value)\n",
    "print('Decision Tree Accuracy: {:.3f}' .format(Decision_tree_accuracy))\n",
    "print('Decision Tree Accuracy: {:.3f}' .format(Logistic_regr_accuracy))\n",
    "print('Decision Tree Accuracy: {:.3f}' .format(svm_accuracy))"
   ]
  },
  {
   "cell_type": "code",
   "execution_count": null,
   "metadata": {},
   "outputs": [],
   "source": [
    " "
   ]
  }
 ],
 "metadata": {
  "kernelspec": {
   "display_name": "Python 3",
   "language": "python",
   "name": "python3"
  },
  "language_info": {
   "codemirror_mode": {
    "name": "ipython",
    "version": 3
   },
   "file_extension": ".py",
   "mimetype": "text/x-python",
   "name": "python",
   "nbconvert_exporter": "python",
   "pygments_lexer": "ipython3",
   "version": "3.7.3"
  }
 },
 "nbformat": 4,
 "nbformat_minor": 2
}
